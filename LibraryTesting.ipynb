{
 "cells": [
  {
   "cell_type": "markdown",
   "id": "eb9507ea-9d71-4bd1-8e2f-da059e2531c3",
   "metadata": {},
   "source": [
    "# Library Import"
   ]
  },
  {
   "cell_type": "code",
   "execution_count": 9,
   "id": "47f6e4dc-a631-46da-84e2-d02ddc7a120b",
   "metadata": {},
   "outputs": [],
   "source": [
    "import model_lib"
   ]
  },
  {
   "cell_type": "markdown",
   "id": "bb72470d-0289-4ffb-ae91-390cf29bd328",
   "metadata": {},
   "source": [
    "# Random Forest"
   ]
  },
  {
   "cell_type": "code",
   "execution_count": 10,
   "id": "0b7eb5dc-6f21-4aa5-8e93-fe0a01984e52",
   "metadata": {},
   "outputs": [],
   "source": [
    "random_forest = model_lib.import_random_forest()"
   ]
  },
  {
   "cell_type": "markdown",
   "id": "c499cb21-df5c-4d2d-ad4d-90c044d79cf5",
   "metadata": {},
   "source": [
    "# XGBoost"
   ]
  },
  {
   "cell_type": "code",
   "execution_count": 11,
   "id": "a43a4925-60c8-4fbb-bd2e-99deaf2d3317",
   "metadata": {},
   "outputs": [],
   "source": [
    "xgboost = model_lib.import_xgboost()"
   ]
  },
  {
   "cell_type": "markdown",
   "id": "dbc27863-4e23-4ebc-be3b-9dc0eaaa7669",
   "metadata": {},
   "source": [
    "# Neural Net"
   ]
  },
  {
   "cell_type": "code",
   "execution_count": 12,
   "id": "aff338ba-ea22-420d-bc1b-fe6710a270b8",
   "metadata": {},
   "outputs": [],
   "source": [
    "neural_net = model_lib.import_neural_net()"
   ]
  },
  {
   "cell_type": "markdown",
   "id": "dbe241d2-69fd-4f25-9ad4-8e1562e8137a",
   "metadata": {},
   "source": [
    "# Naive Bayes"
   ]
  },
  {
   "cell_type": "code",
   "execution_count": 13,
   "id": "da607f48-4895-45e5-a113-3dd2ec7028ef",
   "metadata": {},
   "outputs": [],
   "source": [
    "naive_bayes = model_lib.import_naive_bayes()"
   ]
  },
  {
   "cell_type": "markdown",
   "id": "ba0eae04-2f3f-4189-8928-32258411dd6e",
   "metadata": {},
   "source": [
    "# Testing the models"
   ]
  },
  {
   "cell_type": "code",
   "execution_count": 26,
   "id": "02c58666-6cac-4201-910c-fd9dd9b9bab8",
   "metadata": {},
   "outputs": [],
   "source": [
    "import os\n",
    "import json\n",
    "import pandas as pd"
   ]
  },
  {
   "cell_type": "markdown",
   "id": "40333f02-d57c-453e-880f-0e80c2a6b07d",
   "metadata": {},
   "source": [
    "## Simple Example"
   ]
  },
  {
   "cell_type": "code",
   "execution_count": 46,
   "id": "41a77017-33fc-42a8-83a2-91eb8330bd97",
   "metadata": {},
   "outputs": [],
   "source": [
    "c_example = '\\n\\n/* this ALWAYS GENERATED file contains the definitions for the interfaces */\\n\\n\\n /* File created by MIDL compiler version 8.01.0622 */\\n/* @@MIDL_FILE_HEADING(  ) */\\n\\n\\n\\n/* verify that the <rpcndr.h> version is high enough to compile this file*/\\n#ifndef __REQUIRED_RPCNDR_H_VERSION__\\n#define __REQUIRED_RPCNDR_H_VERSION__ 500\\n#endif\\n\\n/* verify that the <rpcsal.h> version is high enough to compile this file*/\\n#ifndef __REQUIRED_RPCSAL_H_VERSION__\\n#define __REQUIRED_RPCSAL_H_VERSION__ 100\\n#endif\\n\\n#include \"rpc.h\"\\n#include \"rpcndr.h\"\\n\\n#ifndef __RPCNDR_H_VERSION__\\n#error this stub requires an updated version of <rpcndr.h>\\n#endif /* __RPCNDR_H_VERSION__ */\\n\\n#ifndef COM_NO_WINDOWS_H\\n#include \"windows.h\"\\n#include \"ole2.h\"\\n#endif /*COM_NO_WINDOWS_H*/\\n\\n#ifndef __openservice_h__\\n#define __openservice_h__\\n\\n#if defined(_MSC_VER) && (_MSC_VER >= 1020)\\n#pragma once\\n#endif\\n\\n/* Forward Declarations */ \\n\\n#ifndef __IOpenServiceActivityInput_FWD_DEFINED__\\n#define __IOpenServiceActivityInput_FWD_DEFINED__\\ntypedef interface IOpenServiceActivityInput IOpenServiceActivityInput;\\n\\n#endif \\t/* __IOpenServiceActivityInput_FWD_DEFINED__ */\\n\\n\\n#ifndef __IOpenServiceActivityOutputContext_FWD_DEFINED__\\n#define __IOpenServiceActivityOutputContext_FWD_DEFINED__\\ntypedef interface IOpenServiceActivityOutputContext IOpenServiceActivityOutputContext;\\n\\n#endif \\t/* __IOpenServiceActivityOutputContext_FWD_DEFINED__ */\\n\\n\\n#ifndef __IOpenService_FWD_DEFINED__\\n#define __IOpenService_FWD_DEFINED__\\ntypedef interface IOpenService IOpenService;\\n\\n#endif \\t/* __IOpenService_FWD_DEFINED__ */\\n\\n\\n#ifndef __IOpenServiceManager_FWD_DEFINED__\\n#define __IOpenServiceManager_FWD_DEFINED__\\ntypedef interface IOpenServiceManager IOpenServiceManager;\\n\\n#endif \\t/* __IOpenServiceManager_FWD_DEFINED__ */\\n\\n\\n#ifndef __OpenServiceManager_FWD_DEFINED__\\n#define __OpenServiceManager_FWD_DEFINED__\\n\\n#ifdef __cplusplus\\ntypedef class OpenServiceManager OpenServiceManager;\\n#else\\ntypedef struct OpenServiceManager OpenServiceManager;\\n#endif /* __cplusplus */\\n\\n#endif \\t/* __OpenServiceManager_FWD_DEFINED__ */\\n\\n\\n#ifndef __OpenServiceActivityManager_FWD_DEFINED__\\n#define __OpenServiceActivityManager_FWD_DEFINED__\\n\\n#ifdef __cplusplus\\ntypedef class OpenServiceActivityManager OpenServiceActivityManager;\\n#else\\ntypedef struct OpenServiceActivityManager OpenServiceActivityManager;\\n#endif /* __cplusplus */\\n\\n#endif \\t/* __OpenServiceActivityManager_FWD_DEFINED__ */\\n\\n\\n#ifndef __IOpenServiceActivity_FWD_DEFINED__\\n#define __IOpenServiceActivity_FWD_DEFINED__\\ntypedef interface IOpenServiceActivity IOpenServiceActivity;\\n\\n#endif \\t/* __IOpenServiceActivity_FWD_DEFINED__ */\\n\\n\\n#ifndef __IEnumOpenServiceActivity_FWD_DEFINED__\\n#define __IEnumOpenServiceActivity_FWD_DEFINED__\\ntypedef interface IEnumOpenServiceActivity IEnumOpenServiceActivity;\\n\\n#endif \\t/* __IEnumOpenServiceActivity_FWD_DEFINED__ */\\n\\n\\n#ifndef __IOpenServiceActivityCategory_FWD_DEFINED__\\n#define __IOpenServiceActivityCategory_FWD_DEFINED__\\ntypedef interface IOpenServiceActivityCategory IOpenServiceActivityCategory;\\n\\n#endif \\t/* __IOpenServiceActivityCategory_FWD_DEFINED__ */\\n\\n\\n#ifndef __IEnumOpenServiceActivityCategory_FWD_DEFINED__\\n#define __IEnumOpenServiceActivityCategory_FWD_DEFINED__\\ntypedef interface IEnumOpenServiceActivityCategory IEnumOpenServiceActivityCategory;\\n\\n#endif \\t/* __IEnumOpenServiceActivityCategory_FWD_DEFINED__ */\\n\\n\\n#ifndef __IOpenServiceActivityManager_FWD_DEFINED__\\n#define __IOpenServiceActivityManager_FWD_DEFINED__\\ntypedef interface IOpenServiceActivityManager IOpenServiceActivityManager;\\n\\n#endif \\t/* __IOpenServiceActivityManager_FWD_DEFINED__ */\\n\\n\\n/* header files for imported files */\\n#include \"objidl.h\"\\n#include \"oleidl.h\"\\n#include \"mshtml.h\"\\n#include \"exdisp.h\"\\n\\n#ifdef __cplusplus\\nextern \"C\"{\\n#endif \\n\\n\\n/* interface __MIDL_itf_openservice_0000_0000 */\\n/* [local] */ \\n\\n//=--------------------------------------------------------------------------=\\n// openservice.h\\n//=--------------------------------------------------------------------------=\\n// (C) Copyright Microsoft Corporation.  All Rights Reserved.\\n//\\n// THIS CODE AND INFORMATION IS PROVIDED \"AS IS\" WITHOUT WARRANTY OF\\n// ANY KIND, EITHER EXPRESSED OR IMPLIED, INCLUDING BUT NOT LIMITED TO\\n// THE IMPLIED WARRANTIES OF MERCHANTABILITY AND/OR FITNESS FOR A\\n// PARTICULAR PURPOSE.\\n//=--------------------------------------------------------------------------=\\n\\n#include <winapifamily.h>\\n#pragma region Desktop Family\\n#if WINAPI_FAMILY_PARTITION(WINAPI_PARTITION_DESKTOP)\\ntypedef \\nenum OpenServiceErrors\\n    {\\n        OS_E_NOTFOUND\\t= 0x80030002,\\n        OS_E_NOTSUPPORTED\\t= 0x80004021,\\n        OS_E_CANCELLED\\t= 0x80002ef1,\\n        OS_E_GPDISABLED\\t= 0xc00d0bdc\\n    } \\tOpenServiceErrors;\\n\\ntypedef \\nenum OpenServiceActivityContentType\\n    {\\n        ActivityContentNone\\t= -1,\\n        ActivityContentDocument\\t= ( ActivityContentNone + 1 ) ,\\n        ActivityContentSelection\\t= ( ActivityContentDocument + 1 ) ,\\n        ActivityContentLink\\t= ( ActivityContentSelection + 1 ) ,\\n        ActivityContentCount\\t= ( ActivityContentLink + 1 ) \\n    } \\tOpenServiceActivityContentType;\\n\\n\\n\\nextern RPC_IF_HANDLE __MIDL_itf_openservice_0000_0000_v0_0_c_ifspec;\\nextern RPC_IF_HANDLE __MIDL_itf_openservice_0000_0000_v0_0_s_ifspec;\\n\\n#ifndef __IOpenServiceActivityInput_INTERFACE_DEFINED__\\n#define __IOpenServiceActivityInput_INTERFACE_DEFINED__\\n\\n/* interface IOpenServiceActivityInput */\\n/* [unique][uuid][object] */ \\n\\n\\nEXTERN_C const IID IID_IOpenServiceActivityInput;\\n\\n#if defined(__cplusplus) && !defined(CINTERFACE)\\n    \\n    MIDL_INTERFACE(\"75cb4db9-6da0-4da3-83ce-422b6a433346\")\\n    IOpenServiceActivityInput : public IUnknown\\n    {\\n    public:\\n        virtual HRESULT STDMETHODCALLTYPE GetVariable( \\n            /* [in] */ __RPC__in LPCWSTR pwzVariableName,\\n            /* [unique][in] */ __RPC__in_opt LPCWSTR pwzVariableType,\\n            /* [out] */ __RPC__deref_out_opt BSTR *pbstrVariableContent) = 0;\\n        \\n        virtual HRESULT STDMETHODCALLTYPE HasVariable( \\n            /* [in] */ __RPC__in LPCWSTR pwzVariableName,\\n            /* [unique][in] */ __RPC__in_opt LPCWSTR pwzVariableType,\\n            /* [out] */ __RPC__out BOOL *pfHasVariable) = 0;\\n        \\n        virtual HRESULT STDMETHODCALLTYPE GetType( \\n            /* [out] */ __RPC__out OpenServiceActivityContentType *pType) = 0;\\n        \\n    };\\n    \\n    \\n#else \\t/* C style interface */\\n\\n    typedef struct IOpenServiceActivityInputVtbl\\n    {\\n        BEGIN_INTERFACE\\n        \\n        HRESULT ( STDMETHODCALLTYPE *QueryInterface )( \\n            __RPC__in IOpenServiceActivityInput * This,\\n            /* [in] */ __RPC__in REFIID riid,\\n            /* [annotation][iid_is][out] */ \\n            _COM_Outptr_  void **ppvObject);\\n        \\n        ULONG ( STDMETHODCALLTYPE *AddRef )( \\n            __RPC__in IOpenServiceActivityInput * This);\\n        \\n        ULONG ( STDMETHODCALLTYPE *Release )( \\n            __RPC__in IOpenServiceActivityInput * This);\\n        \\n        HRESULT ( STDMETHODCALLTYPE *GetVariable )( \\n            __RPC__in IOpenServiceActivityInput * This,\\n            /* [in] */ __RPC__in LPCWSTR pwzVariableName,\\n            /* [unique][in] */ __RPC__in_opt LPCWSTR pwzVariableType,\\n            /* [out] */ __RPC__deref_out_opt BSTR *pbstrVariableContent);\\n        \\n        HRESULT ( STDMETHODCALLTYPE *HasVariable )( \\n            __RPC__in IOpenServiceActivityInput * This,\\n            /* [in] */ __RPC__in LPCWSTR pwzVariableName,\\n            /* [unique][in] */ __RPC__in_opt LPCWSTR pwzVariableType,\\n            /* [out] */ __RPC__out BOOL *pfHasVariable);\\n        \\n        HRESULT ( STDMETHODCALLTYPE *GetType )( \\n            __RPC__in IOpenServiceActivityInput * This,\\n            /* [out] */ __RPC__out OpenServiceActivityContentType *pType);\\n        \\n        END_INTERFACE\\n    } IOpenServiceActivityInputVtbl;\\n\\n    interface IOpenServiceActivityInput\\n    {\\n        CONST_VTBL struct IOpenServiceActivityInputVtbl *lpVtbl;\\n    };\\n\\n    \\n\\n#ifdef COBJMACROS\\n\\n\\n#define IOpenServiceActivityInput_QueryInterface(This,riid,ppvObject)\\t\\\\\\n    ( (This)->lpVtbl -> QueryInterface(This,riid,ppvObject) ) \\n\\n#define IOpenServiceActivityInput_AddRef(This)\\t\\\\\\n    ( (This)->lpVtbl -> AddRef(This) ) \\n\\n#define IOpenServiceActivityInput_Release(This)\\t\\\\\\n    ( (This)->lpVtbl -> Release(This) ) \\n\\n\\n#define IOpenServiceActivityInput_GetVariable(This,pwzVariableName,pwzVariableType,pbstrVariableContent)\\t\\\\\\n    ( (This)->lpVtbl -> GetVariable(This,pwzVariableName,pwzVariableType,pbstrVariableContent) ) \\n\\n#define IOpenServiceActivityInput_HasVariable(This,pwzVariableName,pwzVariableType,pfHasVariable)\\t\\\\\\n    ( (This)->lpVtbl -> HasVariable(This,pwzVariableName,pwzVariableType,pfHasVariable) ) \\n\\n#define IOpenServiceActivityInput_GetType(This,pType)\\t\\\\\\n    ( (This)->lpVtbl -> GetType(This,pType) ) \\n\\n#endif /* COBJMACROS */\\n\\n\\n#endif \\t/* C style interface */\\n\\n\\n\\n\\n#endif \\t/* __IOpenServiceActivityInput_INTERFACE_DEFINED__ */\\n\\n\\n#ifndef __IOpenServiceActivityOutputContext_INTERFACE_DEFINED__\\n#define __IOpenServiceActivityOutputContext_INTERFACE_DEFINED__\\n\\n/* interface IOpenServiceActivityOutputContext */\\n/* [unique][uuid][object] */ \\n\\n\\nEXTERN_C const IID IID_IOpenServiceActivityOutputContext;\\n\\n#if defined(__cplusplus) && !defined(CINTERFACE)\\n    \\n    MIDL_INTERFACE(\"e289deab-f709-49a9-b99e-282364074571\")\\n    IOpenServiceActivityOutputContext : public IUnknown\\n    {\\n    public:\\n        virtual HRESULT STDMETHODCALLTYPE Navigate( \\n            /* [in] */ __RPC__in LPCWSTR pwzUri,\\n            /* [unique][in] */ __RPC__in_opt LPCWSTR pwzMethod,\\n            /* [unique][in] */ __RPC__in_opt LPCWSTR pwzHeaders,\\n            /* [unique][in] */ __RPC__in_opt IStream *pPostData) = 0;\\n        \\n        virtual HRESULT STDMETHODCALLTYPE CanNavigate( \\n            /* [in] */ __RPC__in LPCWSTR pwzUri,\\n            /* [unique][in] */ __RPC__in_opt LPCWSTR pwzMethod,\\n            /* [unique][in] */ __RPC__in_opt LPCWSTR pwzHeaders,\\n            /* [unique][in] */ __RPC__in_opt IStream *pPostData,\\n            /* [out] */ __RPC__out BOOL *pfCanNavigate) = 0;\\n        \\n    };\\n    \\n    \\n#else \\t/* C style interface */\\n\\n    typedef struct IOpenServiceActivityOutputContextVtbl\\n    {\\n        BEGIN_INTERFACE\\n        \\n        HRESULT ( STDMETHODCALLTYPE *QueryInterface )( \\n            __RPC__in IOpenServiceActivityOutputContext * This,\\n            /* [in] */ __RPC__in REFIID riid,\\n            /* [annotation][iid_is][out] */ \\n            _COM_Outptr_  void **ppvObject);\\n        \\n        ULONG ( STDMETHODCALLTYPE *AddRef )( \\n            __RPC__in IOpenServiceActivityOutputContext * This);\\n        \\n        ULONG ( STDMETHODCALLTYPE *Release )( \\n            __RPC__in IOpenServiceActivityOutputContext * This);\\n        \\n        HRESULT ( STDMETHODCALLTYPE *Navigate )( \\n            __RPC__in IOpenServiceActivityOutputContext * This,\\n            /* [in] */ __RPC__in LPCWSTR pwzUri,\\n            /* [unique][in] */ __RPC__in_opt LPCWSTR pwzMethod,\\n            /* [unique][in] */ __RPC__in_opt LPCWSTR pwzHeaders,\\n            /* [unique][in] */ __RPC__in_opt IStream *pPostData);\\n        \\n        HRESULT ( STDMETHODCALLTYPE *CanNavigate )( \\n            __RPC__in IOpenServiceActivityOutputContext * This,\\n            /* [in] */ __RPC__in LPCWSTR pwzUri,\\n            /* [unique][in] */ __RPC__in_opt LPCWSTR pwzMethod,\\n            /* [unique][in] */ __RPC__in_opt LPCWSTR pwzHeaders,\\n            /* [unique][in] */ __RPC__in_opt IStream *pPostData,\\n            /* [out] */ __RPC__out BOOL *pfCanNavigate);\\n        \\n        END_INTERFACE\\n    } IOpenServiceActivityOutputContextVtbl;\\n\\n    interface IOpenServiceActivityOutputContext\\n    {\\n        CONST_VTBL struct IOpenServiceActivityOutputContextVtbl *lpVtbl;\\n    };\\n\\n    \\n\\n#ifdef COBJMACROS\\n\\n\\n#define IOpenServiceActivityOutputContext_QueryInterface(This,riid,ppvObject)\\t\\\\\\n    ( (This)->lpVtbl -> QueryInterface(This,riid,ppvObject) ) \\n\\n#define IOpenServiceActivityOutputContext_AddRef(This)\\t\\\\\\n    ( (This)->lpVtbl -> AddRef(This) ) \\n\\n#define IOpenServiceActivityOutputContext_Release(This)\\t\\\\\\n    ( (This)->lpVtbl -> Release(This) ) \\n\\n\\n#define IOpenServiceActivityOutputContext_Navigate(This,pwzUri,pwzMethod,pwzHeaders,pPostData)\\t\\\\\\n    ( (This)->lpVtbl -> Navigate(This,pwzUri,pwzMethod,pwzHeaders,pPostData) ) \\n\\n#define IOpenServiceActivityOutputContext_CanNavigate(This,pwzUri,pwzMethod,pwzHeaders,pPostData,pfCanNavigate)\\t\\\\\\n    ( (This)->lpVtbl -> CanNavigate(This,pwzUri,pwzMethod,pwzHeaders,pPostData,pfCanNavigate) ) \\n\\n#endif /* COBJMACROS */\\n\\n\\n#endif \\t/* C style interface */\\n\\n\\n\\n\\n#endif \\t/* __IOpenServiceActivityOutputContext_INTERFACE_DEFINED__ */\\n\\n\\n#ifndef __IOpenService_INTERFACE_DEFINED__\\n#define __IOpenService_INTERFACE_DEFINED__\\n\\n/* interface IOpenService */\\n/* [unique][uuid][object] */ \\n\\n\\nEXTERN_C const IID IID_IOpenService;\\n\\n#if defined(__cplusplus) && !defined(CINTERFACE)\\n    \\n    MIDL_INTERFACE(\"C2952ED1-6A89-4606-925F-1ED8B4BE0630\")\\n    IOpenService : public IUnknown\\n    {\\n    public:\\n        virtual HRESULT STDMETHODCALLTYPE IsDefault( \\n            /* [out] */ __RPC__out BOOL *pfIsDefault) = 0;\\n        \\n        virtual HRESULT STDMETHODCALLTYPE SetDefault( \\n            /* [in] */ BOOL fDefault,\\n            /* [in] */ __RPC__in HWND hwnd) = 0;\\n        \\n        virtual HRESULT STDMETHODCALLTYPE GetID( \\n            /* [out] */ __RPC__deref_out_opt BSTR *pbstrID) = 0;\\n        \\n    };\\n    \\n    \\n#else \\t/* C style interface */\\n\\n    typedef struct IOpenServiceVtbl\\n    {\\n        BEGIN_INTERFACE\\n        \\n        HRESULT ( STDMETHODCALLTYPE *QueryInterface )( \\n            __RPC__in IOpenService * This,\\n            /* [in] */ __RPC__in REFIID riid,\\n            /* [annotation][iid_is][out] */ \\n            _COM_Outptr_  void **ppvObject);\\n        \\n        ULONG ( STDMETHODCALLTYPE *AddRef )( \\n            __RPC__in IOpenService * This);\\n        \\n        ULONG ( STDMETHODCALLTYPE *Release )( \\n            __RPC__in IOpenService * This);\\n        \\n        HRESULT ( STDMETHODCALLTYPE *IsDefault )( \\n            __RPC__in IOpenService * This,\\n            /* [out] */ __RPC__out BOOL *pfIsDefault);\\n        \\n        HRESULT ( STDMETHODCALLTYPE *SetDefault )( \\n            __RPC__in IOpenService * This,\\n            /* [in] */ BOOL fDefault,\\n            /* [in] */ __RPC__in HWND hwnd);\\n        \\n        HRESULT ( STDMETHODCALLTYPE *GetID )( \\n            __RPC__in IOpenService * This,\\n            /* [out] */ __RPC__deref_out_opt BSTR *pbstrID);\\n        \\n        END_INTERFACE\\n    } IOpenServiceVtbl;\\n\\n    interface IOpenService\\n    {\\n        CONST_VTBL struct IOpenServiceVtbl *lpVtbl;\\n    };\\n\\n    \\n\\n#ifdef COBJMACROS\\n\\n\\n#define IOpenService_QueryInterface(This,riid,ppvObject)\\t\\\\\\n    ( (This)->lpVtbl -> QueryInterface(This,riid,ppvObject) ) \\n\\n#define IOpenService_AddRef(This)\\t\\\\\\n    ( (This)->lpVtbl -> AddRef(This) ) \\n\\n#define IOpenService_Release(This)\\t\\\\\\n    ( (This)->lpVtbl -> Release(This) ) \\n\\n\\n#define IOpenService_IsDefault(This,pfIsDefault)\\t\\\\\\n    ( (This)->lpVtbl -> IsDefault(This,pfIsDefault) ) \\n\\n#define IOpenService_SetDefault(This,fDefault,hwnd)\\t\\\\\\n    ( (This)->lpVtbl -> SetDefault(This,fDefault,hwnd) ) \\n\\n#define IOpenService_GetID(This,pbstrID)\\t\\\\\\n    ( (This)->lpVtbl -> GetID(This,pbstrID) ) \\n\\n#endif /* COBJMACROS */\\n\\n\\n#endif \\t/* C style interface */\\n\\n\\n\\n\\n#endif \\t/* __IOpenService_INTERFACE_DEFINED__ */\\n\\n\\n#ifndef __IOpenServiceManager_INTERFACE_DEFINED__\\n#define __IOpenServiceManager_INTERFACE_DEFINED__\\n\\n/* interface IOpenServiceManager */\\n/* [unique][uuid][object] */ \\n\\n\\nEXTERN_C const IID IID_IOpenServiceManager;\\n\\n#if defined(__cplusplus) && !defined(CINTERFACE)\\n    \\n    MIDL_INTERFACE(\"5664125f-4e10-4e90-98e4-e4513d955a14\")\\n    IOpenServiceManager : public IUnknown\\n    {\\n    public:\\n        virtual HRESULT STDMETHODCALLTYPE InstallService( \\n            /* [in] */ __RPC__in LPCWSTR pwzServiceUrl,\\n            /* [out] */ __RPC__deref_out_opt IOpenService **ppService) = 0;\\n        \\n        virtual HRESULT STDMETHODCALLTYPE UninstallService( \\n            /* [in] */ __RPC__in_opt IOpenService *pService) = 0;\\n        \\n        virtual HRESULT STDMETHODCALLTYPE GetServiceByID( \\n            /* [in] */ __RPC__in LPCWSTR pwzID,\\n            /* [out] */ __RPC__deref_out_opt IOpenService **ppService) = 0;\\n        \\n    };\\n    \\n    \\n#else \\t/* C style interface */\\n\\n    typedef struct IOpenServiceManagerVtbl\\n    {\\n        BEGIN_INTERFACE\\n        \\n        HRESULT ( STDMETHODCALLTYPE *QueryInterface )( \\n            __RPC__in IOpenServiceManager * This,\\n            /* [in] */ __RPC__in REFIID riid,\\n            /* [annotation][iid_is][out] */ \\n            _COM_Outptr_  void **ppvObject);\\n        \\n        ULONG ( STDMETHODCALLTYPE *AddRef )( \\n            __RPC__in IOpenServiceManager * This);\\n        \\n        ULONG ( STDMETHODCALLTYPE *Release )( \\n            __RPC__in IOpenServiceManager * This);\\n        \\n        HRESULT ( STDMETHODCALLTYPE *InstallService )( \\n            __RPC__in IOpenServiceManager * This,\\n            /* [in] */ __RPC__in LPCWSTR pwzServiceUrl,\\n            /* [out] */ __RPC__deref_out_opt IOpenService **ppService);\\n        \\n        HRESULT ( STDMETHODCALLTYPE *UninstallService )( \\n            __RPC__in IOpenServiceManager * This,\\n            /* [in] */ __RPC__in_opt IOpenService *pService);\\n        \\n        HRESULT ( STDMETHODCALLTYPE *GetServiceByID )( \\n            __RPC__in IOpenServiceManager * This,\\n            /* [in] */ __RPC__in LPCWSTR pwzID,\\n            /* [out] */ __RPC__deref_out_opt IOpenService **ppService);\\n        \\n        END_INTERFACE\\n    } IOpenServiceManagerVtbl;\\n\\n    interface IOpenServiceManager\\n    {\\n        CONST_VTBL struct IOpenServiceManagerVtbl *lpVtbl;\\n    };\\n\\n    \\n\\n#ifdef COBJMACROS\\n\\n\\n#define IOpenServiceManager_QueryInterface(This,riid,ppvObject)\\t\\\\\\n    ( (This)->lpVtbl -> QueryInterface(This,riid,ppvObject) ) \\n\\n#define IOpenServiceManager_AddRef(This)\\t\\\\\\n    ( (This)->lpVtbl -> AddRef(This) ) \\n\\n#define IOpenServiceManager_Release(This)\\t\\\\\\n    ( (This)->lpVtbl -> Release(This) ) \\n\\n\\n#define IOpenServiceManager_InstallService(This,pwzServiceUrl,ppService)\\t\\\\\\n    ( (This)->lpVtbl -> InstallService(This,pwzServiceUrl,ppService) ) \\n\\n#define IOpenServiceManager_UninstallService(This,pService)\\t\\\\\\n    ( (This)->lpVtbl -> UninstallService(This,pService) ) \\n\\n#define IOpenServiceManager_GetServiceByID(This,pwzID,ppService)\\t\\\\\\n    ( (This)->lpVtbl -> GetServiceByID(This,pwzID,ppService) ) \\n\\n#endif /* COBJMACROS */\\n\\n\\n#endif \\t/* C style interface */\\n\\n\\n\\n\\n#endif \\t/* __IOpenServiceManager_INTERFACE_DEFINED__ */\\n\\n\\n\\n#ifndef __IEOpenServiceObjects_LIBRARY_DEFINED__\\n#define __IEOpenServiceObjects_LIBRARY_DEFINED__\\n\\n/* library IEOpenServiceObjects */\\n/* [uuid] */ \\n\\n\\nEXTERN_C const IID LIBID_IEOpenServiceObjects;\\n\\nEXTERN_C const CLSID CLSID_OpenServiceManager;\\n\\n#ifdef __cplusplus\\n\\nclass DECLSPEC_UUID(\"098870b6-39ea-480b-b8b5-dd0167c4db59\")\\nOpenServiceManager;\\n#endif\\n\\nEXTERN_C const CLSID CLSID_OpenServiceActivityManager;\\n\\n#ifdef __cplusplus\\n\\nclass DECLSPEC_UUID(\"c5efd803-50f8-43cd-9ab8-aafc1394c9e0\")\\nOpenServiceActivityManager;\\n#endif\\n#endif /* __IEOpenServiceObjects_LIBRARY_DEFINED__ */\\n\\n#ifndef __IOpenServiceActivity_INTERFACE_DEFINED__\\n#define __IOpenServiceActivity_INTERFACE_DEFINED__\\n\\n/* interface IOpenServiceActivity */\\n/* [unique][uuid][object] */ \\n\\n\\nEXTERN_C const IID IID_IOpenServiceActivity;\\n\\n#if defined(__cplusplus) && !defined(CINTERFACE)\\n    \\n    MIDL_INTERFACE(\"13645c88-221a-4905-8ed1-4f5112cfc108\")\\n    IOpenServiceActivity : public IOpenService\\n    {\\n    public:\\n        virtual HRESULT STDMETHODCALLTYPE Execute( \\n            /* [in] */ __RPC__in_opt IOpenServiceActivityInput *pInput,\\n            /* [in] */ __RPC__in_opt IOpenServiceActivityOutputContext *pOutput) = 0;\\n        \\n        virtual HRESULT STDMETHODCALLTYPE CanExecute( \\n            /* [in] */ __RPC__in_opt IOpenServiceActivityInput *pInput,\\n            /* [in] */ __RPC__in_opt IOpenServiceActivityOutputContext *pOutput,\\n            /* [out] */ __RPC__out BOOL *pfCanExecute) = 0;\\n        \\n        virtual HRESULT STDMETHODCALLTYPE CanExecuteType( \\n            /* [in] */ OpenServiceActivityContentType type,\\n            /* [out] */ __RPC__out BOOL *pfCanExecute) = 0;\\n        \\n        virtual HRESULT STDMETHODCALLTYPE Preview( \\n            /* [in] */ __RPC__in_opt IOpenServiceActivityInput *pInput,\\n            /* [in] */ __RPC__in_opt IOpenServiceActivityOutputContext *pOutput) = 0;\\n        \\n        virtual HRESULT STDMETHODCALLTYPE CanPreview( \\n            /* [in] */ __RPC__in_opt IOpenServiceActivityInput *pInput,\\n            /* [in] */ __RPC__in_opt IOpenServiceActivityOutputContext *pOutput,\\n            /* [out] */ __RPC__out BOOL *pfCanPreview) = 0;\\n        \\n        virtual HRESULT STDMETHODCALLTYPE CanPreviewType( \\n            /* [in] */ OpenServiceActivityContentType type,\\n            /* [out] */ __RPC__out BOOL *pfCanPreview) = 0;\\n        \\n        virtual HRESULT STDMETHODCALLTYPE GetStatusText( \\n            /* [in] */ __RPC__in_opt IOpenServiceActivityInput *pInput,\\n            /* [out] */ __RPC__deref_out_opt BSTR *pbstrStatusText) = 0;\\n        \\n        virtual HRESULT STDMETHODCALLTYPE GetHomepageUrl( \\n            /* [out] */ __RPC__deref_out_opt BSTR *pbstrHomepageUrl) = 0;\\n        \\n        virtual HRESULT STDMETHODCALLTYPE GetDisplayName( \\n            /* [out] */ __RPC__deref_out_opt BSTR *pbstrDisplayName) = 0;\\n        \\n        virtual HRESULT STDMETHODCALLTYPE GetDescription( \\n            /* [out] */ __RPC__deref_out_opt BSTR *pbstrDescription) = 0;\\n        \\n        virtual HRESULT STDMETHODCALLTYPE GetCategoryName( \\n            /* [out] */ __RPC__deref_out_opt BSTR *pbstrCategoryName) = 0;\\n        \\n        virtual HRESULT STDMETHODCALLTYPE GetIconPath( \\n            /* [out] */ __RPC__deref_out_opt BSTR *pbstrIconPath) = 0;\\n        \\n        virtual HRESULT STDMETHODCALLTYPE GetIcon( \\n            /* [in] */ BOOL fSmallIcon,\\n            /* [out] */ __RPC__deref_out_opt HICON *phIcon) = 0;\\n        \\n        virtual HRESULT STDMETHODCALLTYPE GetDescriptionFilePath( \\n            /* [out] */ __RPC__deref_out_opt BSTR *pbstrXmlPath) = 0;\\n        \\n        virtual HRESULT STDMETHODCALLTYPE GetDownloadUrl( \\n            /* [out] */ __RPC__deref_out_opt BSTR *pbstrXmlUri) = 0;\\n        \\n        virtual HRESULT STDMETHODCALLTYPE GetInstallUrl( \\n            /* [out] */ __RPC__deref_out_opt BSTR *pbstrInstallUri) = 0;\\n        \\n        virtual HRESULT STDMETHODCALLTYPE IsEnabled( \\n            /* [out] */ __RPC__out BOOL *pfIsEnabled) = 0;\\n        \\n        virtual HRESULT STDMETHODCALLTYPE SetEnabled( \\n            /* [in] */ BOOL fEnable) = 0;\\n        \\n    };\\n    \\n    \\n#else \\t/* C style interface */\\n\\n    typedef struct IOpenServiceActivityVtbl\\n    {\\n        BEGIN_INTERFACE\\n        \\n        HRESULT ( STDMETHODCALLTYPE *QueryInterface )( \\n            __RPC__in IOpenServiceActivity * This,\\n            /* [in] */ __RPC__in REFIID riid,\\n            /* [annotation][iid_is][out] */ \\n            _COM_Outptr_  void **ppvObject);\\n        \\n        ULONG ( STDMETHODCALLTYPE *AddRef )( \\n            __RPC__in IOpenServiceActivity * This);\\n        \\n        ULONG ( STDMETHODCALLTYPE *Release )( \\n            __RPC__in IOpenServiceActivity * This);\\n        \\n        HRESULT ( STDMETHODCALLTYPE *IsDefault )( \\n            __RPC__in IOpenServiceActivity * This,\\n            /* [out] */ __RPC__out BOOL *pfIsDefault);\\n        \\n        HRESULT ( STDMETHODCALLTYPE *SetDefault )( \\n            __RPC__in IOpenServiceActivity * This,\\n            /* [in] */ BOOL fDefault,\\n            /* [in] */ __RPC__in HWND hwnd);\\n        \\n        HRESULT ( STDMETHODCALLTYPE *GetID )( \\n            __RPC__in IOpenServiceActivity * This,\\n            /* [out] */ __RPC__deref_out_opt BSTR *pbstrID);\\n        \\n        HRESULT ( STDMETHODCALLTYPE *Execute )( \\n            __RPC__in IOpenServiceActivity * This,\\n            /* [in] */ __RPC__in_opt IOpenServiceActivityInput *pInput,\\n            /* [in] */ __RPC__in_opt IOpenServiceActivityOutputContext *pOutput);\\n        \\n        HRESULT ( STDMETHODCALLTYPE *CanExecute )( \\n            __RPC__in IOpenServiceActivity * This,\\n            /* [in] */ __RPC__in_opt IOpenServiceActivityInput *pInput,\\n            /* [in] */ __RPC__in_opt IOpenServiceActivityOutputContext *pOutput,\\n            /* [out] */ __RPC__out BOOL *pfCanExecute);\\n        \\n        HRESULT ( STDMETHODCALLTYPE *CanExecuteType )( \\n            __RPC__in IOpenServiceActivity * This,\\n            /* [in] */ OpenServiceActivityContentType type,\\n            /* [out] */ __RPC__out BOOL *pfCanExecute);\\n        \\n        HRESULT ( STDMETHODCALLTYPE *Preview )( \\n            __RPC__in IOpenServiceActivity * This,\\n            /* [in] */ __RPC__in_opt IOpenServiceActivityInput *pInput,\\n            /* [in] */ __RPC__in_opt IOpenServiceActivityOutputContext *pOutput);\\n        \\n        HRESULT ( STDMETHODCALLTYPE *CanPreview )( \\n            __RPC__in IOpenServiceActivity * This,\\n            /* [in] */ __RPC__in_opt IOpenServiceActivityInput *pInput,\\n            /* [in] */ __RPC__in_opt IOpenServiceActivityOutputContext *pOutput,\\n            /* [out] */ __RPC__out BOOL *pfCanPreview);\\n        \\n        HRESULT ( STDMETHODCALLTYPE *CanPreviewType )( \\n            __RPC__in IOpenServiceActivity * This,\\n            /* [in] */ OpenServiceActivityContentType type,\\n            /* [out] */ __RPC__out BOOL *pfCanPreview);\\n        \\n        HRESULT ( STDMETHODCALLTYPE *GetStatusText )( \\n            __RPC__in IOpenServiceActivity * This,\\n            /* [in] */ __RPC__in_opt IOpenServiceActivityInput *pInput,\\n            /* [out] */ __RPC__deref_out_opt BSTR *pbstrStatusText);\\n        \\n        HRESULT ( STDMETHODCALLTYPE *GetHomepageUrl )( \\n            __RPC__in IOpenServiceActivity * This,\\n            /* [out] */ __RPC__deref_out_opt BSTR *pbstrHomepageUrl);\\n        \\n        HRESULT ( STDMETHODCALLTYPE *GetDisplayName )( \\n            __RPC__in IOpenServiceActivity * This,\\n            /* [out] */ __RPC__deref_out_opt BSTR *pbstrDisplayName);\\n        \\n        HRESULT ( STDMETHODCALLTYPE *GetDescription )( \\n            __RPC__in IOpenServiceActivity * This,\\n            /* [out] */ __RPC__deref_out_opt BSTR *pbstrDescription);\\n        \\n        HRESULT ( STDMETHODCALLTYPE *GetCategoryName )( \\n            __RPC__in IOpenServiceActivity * This,\\n            /* [out] */ __RPC__deref_out_opt BSTR *pbstrCategoryName);\\n        \\n        HRESULT ( STDMETHODCALLTYPE *GetIconPath )( \\n            __RPC__in IOpenServiceActivity * This,\\n            /* [out] */ __RPC__deref_out_opt BSTR *pbstrIconPath);\\n        \\n        HRESULT ( STDMETHODCALLTYPE *GetIcon )( \\n            __RPC__in IOpenServiceActivity * This,\\n            /* [in] */ BOOL fSmallIcon,\\n            /* [out] */ __RPC__deref_out_opt HICON *phIcon);\\n        \\n        HRESULT ( STDMETHODCALLTYPE *GetDescriptionFilePath )( \\n            __RPC__in IOpenServiceActivity * This,\\n            /* [out] */ __RPC__deref_out_opt BSTR *pbstrXmlPath);\\n        \\n        HRESULT ( STDMETHODCALLTYPE *GetDownloadUrl )( \\n            __RPC__in IOpenServiceActivity * This,\\n            /* [out] */ __RPC__deref_out_opt BSTR *pbstrXmlUri);\\n        \\n        HRESULT ( STDMETHODCALLTYPE *GetInstallUrl )( \\n            __RPC__in IOpenServiceActivity * This,\\n            /* [out] */ __RPC__deref_out_opt BSTR *pbstrInstallUri);\\n        \\n        HRESULT ( STDMETHODCALLTYPE *IsEnabled )( \\n            __RPC__in IOpenServiceActivity * This,\\n            /* [out] */ __RPC__out BOOL *pfIsEnabled);\\n        \\n        HRESULT ( STDMETHODCALLTYPE *SetEnabled )( \\n            __RPC__in IOpenServiceActivity * This,\\n            /* [in] */ BOOL fEnable);\\n        \\n        END_INTERFACE\\n    } IOpenServiceActivityVtbl;\\n\\n    interface IOpenServiceActivity\\n    {\\n        CONST_VTBL struct IOpenServiceActivityVtbl *lpVtbl;\\n    };\\n\\n    \\n\\n#ifdef COBJMACROS\\n\\n\\n#define IOpenServiceActivity_QueryInterface(This,riid,ppvObject)\\t\\\\\\n    ( (This)->lpVtbl -> QueryInterface(This,riid,ppvObject) ) \\n\\n#define IOpenServiceActivity_AddRef(This)\\t\\\\\\n    ( (This)->lpVtbl -> AddRef(This) ) \\n\\n#define IOpenServiceActivity_Release(This)\\t\\\\\\n    ( (This)->lpVtbl -> Release(This) ) \\n\\n\\n#define IOpenServiceActivity_IsDefault(This,pfIsDefault)\\t\\\\\\n    ( (This)->lpVtbl -> IsDefault(This,pfIsDefault) ) \\n\\n#define IOpenServiceActivity_SetDefault(This,fDefault,hwnd)\\t\\\\\\n    ( (This)->lpVtbl -> SetDefault(This,fDefault,hwnd) ) \\n\\n#define IOpenServiceActivity_GetID(This,pbstrID)\\t\\\\\\n    ( (This)->lpVtbl -> GetID(This,pbstrID) ) \\n\\n\\n#define IOpenServiceActivity_Execute(This,pInput,pOutput)\\t\\\\\\n    ( (This)->lpVtbl -> Execute(This,pInput,pOutput) ) \\n\\n#define IOpenServiceActivity_CanExecute(This,pInput,pOutput,pfCanExecute)\\t\\\\\\n    ( (This)->lpVtbl -> CanExecute(This,pInput,pOutput,pfCanExecute) ) \\n\\n#define IOpenServiceActivity_CanExecuteType(This,type,pfCanExecute)\\t\\\\\\n    ( (This)->lpVtbl -> CanExecuteType(This,type,pfCanExecute) ) \\n\\n#define IOpenServiceActivity_Preview(This,pInput,pOutput)\\t\\\\\\n    ( (This)->lpVtbl -> Preview(This,pInput,pOutput) ) \\n\\n#define IOpenServiceActivity_CanPreview(This,pInput,pOutput,pfCanPreview)\\t\\\\\\n    ( (This)->lpVtbl -> CanPreview(This,pInput,pOutput,pfCanPreview) ) \\n\\n#define IOpenServiceActivity_CanPreviewType(This,type,pfCanPreview)\\t\\\\\\n    ( (This)->lpVtbl -> CanPreviewType(This,type,pfCanPreview) ) \\n\\n#define IOpenServiceActivity_GetStatusText(This,pInput,pbstrStatusText)\\t\\\\\\n    ( (This)->lpVtbl -> GetStatusText(This,pInput,pbstrStatusText) ) \\n\\n#define IOpenServiceActivity_GetHomepageUrl(This,pbstrHomepageUrl)\\t\\\\\\n    ( (This)->lpVtbl -> GetHomepageUrl(This,pbstrHomepageUrl) ) \\n\\n#define IOpenServiceActivity_GetDisplayName(This,pbstrDisplayName)\\t\\\\\\n    ( (This)->lpVtbl -> GetDisplayName(This,pbstrDisplayName) ) \\n\\n#define IOpenServiceActivity_GetDescription(This,pbstrDescription)\\t\\\\\\n    ( (This)->lpVtbl -> GetDescription(This,pbstrDescription) ) \\n\\n#define IOpenServiceActivity_GetCategoryName(This,pbstrCategoryName)\\t\\\\\\n    ( (This)->lpVtbl -> GetCategoryName(This,pbstrCategoryName) ) \\n\\n#define IOpenServiceActivity_GetIconPath(This,pbstrIconPath)\\t\\\\\\n    ( (This)->lpVtbl -> GetIconPath(This,pbstrIconPath) ) \\n\\n#define IOpenServiceActivity_GetIcon(This,fSmallIcon,phIcon)\\t\\\\\\n    ( (This)->lpVtbl -> GetIcon(This,fSmallIcon,phIcon) ) \\n\\n#define IOpenServiceActivity_GetDescriptionFilePath(This,pbstrXmlPath)\\t\\\\\\n    ( (This)->lpVtbl -> GetDescriptionFilePath(This,pbstrXmlPath) ) \\n\\n#define IOpenServiceActivity_GetDownloadUrl(This,pbstrXmlUri)\\t\\\\\\n    ( (This)->lpVtbl -> GetDownloadUrl(This,pbstrXmlUri) ) \\n\\n#define IOpenServiceActivity_GetInstallUrl(This,pbstrInstallUri)\\t\\\\\\n    ( (This)->lpVtbl -> GetInstallUrl(This,pbstrInstallUri) ) \\n\\n#define IOpenServiceActivity_IsEnabled(This,pfIsEnabled)\\t\\\\\\n    ( (This)->lpVtbl -> IsEnabled(This,pfIsEnabled) ) \\n\\n#define IOpenServiceActivity_SetEnabled(This,fEnable)\\t\\\\\\n    ( (This)->lpVtbl -> SetEnabled(This,fEnable) ) \\n\\n#endif /* COBJMACROS */\\n\\n\\n#endif \\t/* C style interface */\\n\\n\\n\\n\\n#endif \\t/* __IOpenServiceActivity_INTERFACE_DEFINED__ */\\n\\n\\n#ifndef __IEnumOpenServiceActivity_INTERFACE_DEFINED__\\n#define __IEnumOpenServiceActivity_INTERFACE_DEFINED__\\n\\n/* interface IEnumOpenServiceActivity */\\n/* [unique][uuid][object] */ \\n\\ntypedef IOpenServiceActivity *EnumActivityType;\\n\\n\\nEXTERN_C const IID IID_IEnumOpenServiceActivity;\\n\\n#if defined(__cplusplus) && !defined(CINTERFACE)\\n    \\n    MIDL_INTERFACE(\"a436d7d2-17c3-4ef4-a1e8-5c86faff26c0\")\\n    IEnumOpenServiceActivity : public IUnknown\\n    {\\n    public:\\n        virtual HRESULT STDMETHODCALLTYPE Next( \\n            /* [in] */ ULONG celt,\\n            /* [length_is][size_is][out] */ __RPC__out_ecount_part(celt, *pceltFetched) EnumActivityType *rgelt,\\n            /* [out] */ __RPC__out ULONG *pceltFetched) = 0;\\n        \\n        virtual HRESULT STDMETHODCALLTYPE Skip( \\n            /* [in] */ ULONG celt) = 0;\\n        \\n        virtual HRESULT STDMETHODCALLTYPE Reset( void) = 0;\\n        \\n        virtual HRESULT STDMETHODCALLTYPE Clone( \\n            /* [out] */ __RPC__deref_out_opt IEnumOpenServiceActivity **ppenum) = 0;\\n        \\n    };\\n    \\n    \\n#else \\t/* C style interface */\\n\\n    typedef struct IEnumOpenServiceActivityVtbl\\n    {\\n        BEGIN_INTERFACE\\n        \\n        HRESULT ( STDMETHODCALLTYPE *QueryInterface )( \\n            __RPC__in IEnumOpenServiceActivity * This,\\n            /* [in] */ __RPC__in REFIID riid,\\n            /* [annotation][iid_is][out] */ \\n            _COM_Outptr_  void **ppvObject);\\n        \\n        ULONG ( STDMETHODCALLTYPE *AddRef )( \\n            __RPC__in IEnumOpenServiceActivity * This);\\n        \\n        ULONG ( STDMETHODCALLTYPE *Release )( \\n            __RPC__in IEnumOpenServiceActivity * This);\\n        \\n        HRESULT ( STDMETHODCALLTYPE *Next )( \\n            __RPC__in IEnumOpenServiceActivity * This,\\n            /* [in] */ ULONG celt,\\n            /* [length_is][size_is][out] */ __RPC__out_ecount_part(celt, *pceltFetched) EnumActivityType *rgelt,\\n            /* [out] */ __RPC__out ULONG *pceltFetched);\\n        \\n        HRESULT ( STDMETHODCALLTYPE *Skip )( \\n            __RPC__in IEnumOpenServiceActivity * This,\\n            /* [in] */ ULONG celt);\\n        \\n        HRESULT ( STDMETHODCALLTYPE *Reset )( \\n            __RPC__in IEnumOpenServiceActivity * This);\\n        \\n        HRESULT ( STDMETHODCALLTYPE *Clone )( \\n            __RPC__in IEnumOpenServiceActivity * This,\\n            /* [out] */ __RPC__deref_out_opt IEnumOpenServiceActivity **ppenum);\\n        \\n        END_INTERFACE\\n    } IEnumOpenServiceActivityVtbl;\\n\\n    interface IEnumOpenServiceActivity\\n    {\\n        CONST_VTBL struct IEnumOpenServiceActivityVtbl *lpVtbl;\\n    };\\n\\n    \\n\\n#ifdef COBJMACROS\\n\\n\\n#define IEnumOpenServiceActivity_QueryInterface(This,riid,ppvObject)\\t\\\\\\n    ( (This)->lpVtbl -> QueryInterface(This,riid,ppvObject) ) \\n\\n#define IEnumOpenServiceActivity_AddRef(This)\\t\\\\\\n    ( (This)->lpVtbl -> AddRef(This) ) \\n\\n#define IEnumOpenServiceActivity_Release(This)\\t\\\\\\n    ( (This)->lpVtbl -> Release(This) ) \\n\\n\\n#define IEnumOpenServiceActivity_Next(This,celt,rgelt,pceltFetched)\\t\\\\\\n    ( (This)->lpVtbl -> Next(This,celt,rgelt,pceltFetched) ) \\n\\n#define IEnumOpenServiceActivity_Skip(This,celt)\\t\\\\\\n    ( (This)->lpVtbl -> Skip(This,celt) ) \\n\\n#define IEnumOpenServiceActivity_Reset(This)\\t\\\\\\n    ( (This)->lpVtbl -> Reset(This) ) \\n\\n#define IEnumOpenServiceActivity_Clone(This,ppenum)\\t\\\\\\n    ( (This)->lpVtbl -> Clone(This,ppenum) ) \\n\\n#endif /* COBJMACROS */\\n\\n\\n#endif \\t/* C style interface */\\n\\n\\n\\n\\n#endif \\t/* __IEnumOpenServiceActivity_INTERFACE_DEFINED__ */\\n\\n\\n#ifndef __IOpenServiceActivityCategory_INTERFACE_DEFINED__\\n#define __IOpenServiceActivityCategory_INTERFACE_DEFINED__\\n\\n/* interface IOpenServiceActivityCategory */\\n/* [unique][uuid][object] */ \\n\\n\\nEXTERN_C const IID IID_IOpenServiceActivityCategory;\\n\\n#if defined(__cplusplus) && !defined(CINTERFACE)\\n    \\n    MIDL_INTERFACE(\"850AF9D6-7309-40b5-BDB8-786C106B2153\")\\n    IOpenServiceActivityCategory : public IUnknown\\n    {\\n    public:\\n        virtual HRESULT STDMETHODCALLTYPE HasDefaultActivity( \\n            /* [out] */ __RPC__out BOOL *pfHasDefaultActivity) = 0;\\n        \\n        virtual HRESULT STDMETHODCALLTYPE GetDefaultActivity( \\n            /* [out] */ __RPC__deref_out_opt IOpenServiceActivity **ppDefaultActivity) = 0;\\n        \\n        virtual HRESULT STDMETHODCALLTYPE SetDefaultActivity( \\n            /* [in] */ __RPC__in_opt IOpenServiceActivity *pActivity,\\n            /* [in] */ __RPC__in HWND hwnd) = 0;\\n        \\n        virtual HRESULT STDMETHODCALLTYPE GetName( \\n            /* [out] */ __RPC__deref_out_opt BSTR *pbstrName) = 0;\\n        \\n        virtual HRESULT STDMETHODCALLTYPE GetActivityEnumerator( \\n            /* [in] */ __RPC__in_opt IOpenServiceActivityInput *pInput,\\n            /* [in] */ __RPC__in_opt IOpenServiceActivityOutputContext *pOutput,\\n            /* [out] */ __RPC__deref_out_opt IEnumOpenServiceActivity **ppEnumActivity) = 0;\\n        \\n    };\\n    \\n    \\n#else \\t/* C style interface */\\n\\n    typedef struct IOpenServiceActivityCategoryVtbl\\n    {\\n        BEGIN_INTERFACE\\n        \\n        HRESULT ( STDMETHODCALLTYPE *QueryInterface )( \\n            __RPC__in IOpenServiceActivityCategory * This,\\n            /* [in] */ __RPC__in REFIID riid,\\n            /* [annotation][iid_is][out] */ \\n            _COM_Outptr_  void **ppvObject);\\n        \\n        ULONG ( STDMETHODCALLTYPE *AddRef )( \\n            __RPC__in IOpenServiceActivityCategory * This);\\n        \\n        ULONG ( STDMETHODCALLTYPE *Release )( \\n            __RPC__in IOpenServiceActivityCategory * This);\\n        \\n        HRESULT ( STDMETHODCALLTYPE *HasDefaultActivity )( \\n            __RPC__in IOpenServiceActivityCategory * This,\\n            /* [out] */ __RPC__out BOOL *pfHasDefaultActivity);\\n        \\n        HRESULT ( STDMETHODCALLTYPE *GetDefaultActivity )( \\n            __RPC__in IOpenServiceActivityCategory * This,\\n            /* [out] */ __RPC__deref_out_opt IOpenServiceActivity **ppDefaultActivity);\\n        \\n        HRESULT ( STDMETHODCALLTYPE *SetDefaultActivity )( \\n            __RPC__in IOpenServiceActivityCategory * This,\\n            /* [in] */ __RPC__in_opt IOpenServiceActivity *pActivity,\\n            /* [in] */ __RPC__in HWND hwnd);\\n        \\n        HRESULT ( STDMETHODCALLTYPE *GetName )( \\n            __RPC__in IOpenServiceActivityCategory * This,\\n            /* [out] */ __RPC__deref_out_opt BSTR *pbstrName);\\n        \\n        HRESULT ( STDMETHODCALLTYPE *GetActivityEnumerator )( \\n            __RPC__in IOpenServiceActivityCategory * This,\\n            /* [in] */ __RPC__in_opt IOpenServiceActivityInput *pInput,\\n            /* [in] */ __RPC__in_opt IOpenServiceActivityOutputContext *pOutput,\\n            /* [out] */ __RPC__deref_out_opt IEnumOpenServiceActivity **ppEnumActivity);\\n        \\n        END_INTERFACE\\n    } IOpenServiceActivityCategoryVtbl;\\n\\n    interface IOpenServiceActivityCategory\\n    {\\n        CONST_VTBL struct IOpenServiceActivityCategoryVtbl *lpVtbl;\\n    };\\n\\n    \\n\\n#ifdef COBJMACROS\\n\\n\\n#define IOpenServiceActivityCategory_QueryInterface(This,riid,ppvObject)\\t\\\\\\n    ( (This)->lpVtbl -> QueryInterface(This,riid,ppvObject) ) \\n\\n#define IOpenServiceActivityCategory_AddRef(This)\\t\\\\\\n    ( (This)->lpVtbl -> AddRef(This) ) \\n\\n#define IOpenServiceActivityCategory_Release(This)\\t\\\\\\n    ( (This)->lpVtbl -> Release(This) ) \\n\\n\\n#define IOpenServiceActivityCategory_HasDefaultActivity(This,pfHasDefaultActivity)\\t\\\\\\n    ( (This)->lpVtbl -> HasDefaultActivity(This,pfHasDefaultActivity) ) \\n\\n#define IOpenServiceActivityCategory_GetDefaultActivity(This,ppDefaultActivity)\\t\\\\\\n    ( (This)->lpVtbl -> GetDefaultActivity(This,ppDefaultActivity) ) \\n\\n#define IOpenServiceActivityCategory_SetDefaultActivity(This,pActivity,hwnd)\\t\\\\\\n    ( (This)->lpVtbl -> SetDefaultActivity(This,pActivity,hwnd) ) \\n\\n#define IOpenServiceActivityCategory_GetName(This,pbstrName)\\t\\\\\\n    ( (This)->lpVtbl -> GetName(This,pbstrName) ) \\n\\n#define IOpenServiceActivityCategory_GetActivityEnumerator(This,pInput,pOutput,ppEnumActivity)\\t\\\\\\n    ( (This)->lpVtbl -> GetActivityEnumerator(This,pInput,pOutput,ppEnumActivity) ) \\n\\n#endif /* COBJMACROS */\\n\\n\\n#endif \\t/* C style interface */\\n\\n\\n\\n\\n#endif \\t/* __IOpenServiceActivityCategory_INTERFACE_DEFINED__ */\\n\\n\\n#ifndef __IEnumOpenServiceActivityCategory_INTERFACE_DEFINED__\\n#define __IEnumOpenServiceActivityCategory_INTERFACE_DEFINED__\\n\\n/* interface IEnumOpenServiceActivityCategory */\\n/* [unique][uuid][object] */ \\n\\ntypedef IOpenServiceActivityCategory *EnumActivityVerbType;\\n\\n\\nEXTERN_C const IID IID_IEnumOpenServiceActivityCategory;\\n\\n#if defined(__cplusplus) && !defined(CINTERFACE)\\n    \\n    MIDL_INTERFACE(\"33627a56-8c9a-4430-8fd1-b5f5c771afb6\")\\n    IEnumOpenServiceActivityCategory : public IUnknown\\n    {\\n    public:\\n        virtual HRESULT STDMETHODCALLTYPE Next( \\n            /* [in] */ ULONG celt,\\n            /* [length_is][size_is][out] */ __RPC__out_ecount_part(celt, *pceltFetched) EnumActivityVerbType *rgelt,\\n            /* [out] */ __RPC__out ULONG *pceltFetched) = 0;\\n        \\n        virtual HRESULT STDMETHODCALLTYPE Skip( \\n            /* [in] */ ULONG celt) = 0;\\n        \\n        virtual HRESULT STDMETHODCALLTYPE Reset( void) = 0;\\n        \\n        virtual HRESULT STDMETHODCALLTYPE Clone( \\n            /* [out] */ __RPC__deref_out_opt IEnumOpenServiceActivityCategory **ppenum) = 0;\\n        \\n    };\\n    \\n    \\n#else \\t/* C style interface */\\n\\n    typedef struct IEnumOpenServiceActivityCategoryVtbl\\n    {\\n        BEGIN_INTERFACE\\n        \\n        HRESULT ( STDMETHODCALLTYPE *QueryInterface )( \\n            __RPC__in IEnumOpenServiceActivityCategory * This,\\n            /* [in] */ __RPC__in REFIID riid,\\n            /* [annotation][iid_is][out] */ \\n            _COM_Outptr_  void **ppvObject);\\n        \\n        ULONG ( STDMETHODCALLTYPE *AddRef )( \\n            __RPC__in IEnumOpenServiceActivityCategory * This);\\n        \\n        ULONG ( STDMETHODCALLTYPE *Release )( \\n            __RPC__in IEnumOpenServiceActivityCategory * This);\\n        \\n        HRESULT ( STDMETHODCALLTYPE *Next )( \\n            __RPC__in IEnumOpenServiceActivityCategory * This,\\n            /* [in] */ ULONG celt,\\n            /* [length_is][size_is][out] */ __RPC__out_ecount_part(celt, *pceltFetched) EnumActivityVerbType *rgelt,\\n            /* [out] */ __RPC__out ULONG *pceltFetched);\\n        \\n        HRESULT ( STDMETHODCALLTYPE *Skip )( \\n            __RPC__in IEnumOpenServiceActivityCategory * This,\\n            /* [in] */ ULONG celt);\\n        \\n        HRESULT ( STDMETHODCALLTYPE *Reset )( \\n            __RPC__in IEnumOpenServiceActivityCategory * This);\\n        \\n        HRESULT ( STDMETHODCALLTYPE *Clone )( \\n            __RPC__in IEnumOpenServiceActivityCategory * This,\\n            /* [out] */ __RPC__deref_out_opt IEnumOpenServiceActivityCategory **ppenum);\\n        \\n        END_INTERFACE\\n    } IEnumOpenServiceActivityCategoryVtbl;\\n\\n    interface IEnumOpenServiceActivityCategory\\n    {\\n        CONST_VTBL struct IEnumOpenServiceActivityCategoryVtbl *lpVtbl;\\n    };\\n\\n    \\n\\n#ifdef COBJMACROS\\n\\n\\n#define IEnumOpenServiceActivityCategory_QueryInterface(This,riid,ppvObject)\\t\\\\\\n    ( (This)->lpVtbl -> QueryInterface(This,riid,ppvObject) ) \\n\\n#define IEnumOpenServiceActivityCategory_AddRef(This)\\t\\\\\\n    ( (This)->lpVtbl -> AddRef(This) ) \\n\\n#define IEnumOpenServiceActivityCategory_Release(This)\\t\\\\\\n    ( (This)->lpVtbl -> Release(This) ) \\n\\n\\n#define IEnumOpenServiceActivityCategory_Next(This,celt,rgelt,pceltFetched)\\t\\\\\\n    ( (This)->lpVtbl -> Next(This,celt,rgelt,pceltFetched) ) \\n\\n#define IEnumOpenServiceActivityCategory_Skip(This,celt)\\t\\\\\\n    ( (This)->lpVtbl -> Skip(This,celt) ) \\n\\n#define IEnumOpenServiceActivityCategory_Reset(This)\\t\\\\\\n    ( (This)->lpVtbl -> Reset(This) ) \\n\\n#define IEnumOpenServiceActivityCategory_Clone(This,ppenum)\\t\\\\\\n    ( (This)->lpVtbl -> Clone(This,ppenum) ) \\n\\n#endif /* COBJMACROS */\\n\\n\\n#endif \\t/* C style interface */\\n\\n\\n\\n\\n#endif \\t/* __IEnumOpenServiceActivityCategory_INTERFACE_DEFINED__ */\\n\\n\\n#ifndef __IOpenServiceActivityManager_INTERFACE_DEFINED__\\n#define __IOpenServiceActivityManager_INTERFACE_DEFINED__\\n\\n/* interface IOpenServiceActivityManager */\\n/* [unique][uuid][object] */ \\n\\n\\nEXTERN_C const IID IID_IOpenServiceActivityManager;\\n\\n#if defined(__cplusplus) && !defined(CINTERFACE)\\n    \\n    MIDL_INTERFACE(\"8a2d0a9d-e920-4bdc-a291-d30f650bc4f1\")\\n    IOpenServiceActivityManager : public IUnknown\\n    {\\n    public:\\n        virtual HRESULT STDMETHODCALLTYPE GetCategoryEnumerator( \\n            /* [in] */ OpenServiceActivityContentType eType,\\n            /* [out] */ __RPC__deref_out_opt IEnumOpenServiceActivityCategory **ppEnum) = 0;\\n        \\n        virtual HRESULT STDMETHODCALLTYPE GetActivityByID( \\n            /* [in] */ __RPC__in LPCWSTR pwzActivityID,\\n            /* [out] */ __RPC__deref_out_opt IOpenServiceActivity **ppActivity) = 0;\\n        \\n        virtual HRESULT STDMETHODCALLTYPE GetActivityByHomepageAndCategory( \\n            /* [in] */ __RPC__in LPCWSTR pwzHomepage,\\n            /* [in] */ __RPC__in LPCWSTR pwzCategory,\\n            /* [out] */ __RPC__deref_out_opt IOpenServiceActivity **ppActivity) = 0;\\n        \\n        virtual HRESULT STDMETHODCALLTYPE GetVersionCookie( \\n            /* [out] */ __RPC__out DWORD *pdwVersionCookie) = 0;\\n        \\n    };\\n    \\n    \\n#else \\t/* C style interface */\\n\\n    typedef struct IOpenServiceActivityManagerVtbl\\n    {\\n        BEGIN_INTERFACE\\n        \\n        HRESULT ( STDMETHODCALLTYPE *QueryInterface )( \\n            __RPC__in IOpenServiceActivityManager * This,\\n            /* [in] */ __RPC__in REFIID riid,\\n            /* [annotation][iid_is][out] */ \\n            _COM_Outptr_  void **ppvObject);\\n        \\n        ULONG ( STDMETHODCALLTYPE *AddRef )( \\n            __RPC__in IOpenServiceActivityManager * This);\\n        \\n        ULONG ( STDMETHODCALLTYPE *Release )( \\n            __RPC__in IOpenServiceActivityManager * This);\\n        \\n        HRESULT ( STDMETHODCALLTYPE *GetCategoryEnumerator )( \\n            __RPC__in IOpenServiceActivityManager * This,\\n            /* [in] */ OpenServiceActivityContentType eType,\\n            /* [out] */ __RPC__deref_out_opt IEnumOpenServiceActivityCategory **ppEnum);\\n        \\n        HRESULT ( STDMETHODCALLTYPE *GetActivityByID )( \\n            __RPC__in IOpenServiceActivityManager * This,\\n            /* [in] */ __RPC__in LPCWSTR pwzActivityID,\\n            /* [out] */ __RPC__deref_out_opt IOpenServiceActivity **ppActivity);\\n        \\n        HRESULT ( STDMETHODCALLTYPE *GetActivityByHomepageAndCategory )( \\n            __RPC__in IOpenServiceActivityManager * This,\\n            /* [in] */ __RPC__in LPCWSTR pwzHomepage,\\n            /* [in] */ __RPC__in LPCWSTR pwzCategory,\\n            /* [out] */ __RPC__deref_out_opt IOpenServiceActivity **ppActivity);\\n        \\n        HRESULT ( STDMETHODCALLTYPE *GetVersionCookie )( \\n            __RPC__in IOpenServiceActivityManager * This,\\n            /* [out] */ __RPC__out DWORD *pdwVersionCookie);\\n        \\n        END_INTERFACE\\n    } IOpenServiceActivityManagerVtbl;\\n\\n    interface IOpenServiceActivityManager\\n    {\\n        CONST_VTBL struct IOpenServiceActivityManagerVtbl *lpVtbl;\\n    };\\n\\n    \\n\\n#ifdef COBJMACROS\\n\\n\\n#define IOpenServiceActivityManager_QueryInterface(This,riid,ppvObject)\\t\\\\\\n    ( (This)->lpVtbl -> QueryInterface(This,riid,ppvObject) ) \\n\\n#define IOpenServiceActivityManager_AddRef(This)\\t\\\\\\n    ( (This)->lpVtbl -> AddRef(This) ) \\n\\n#define IOpenServiceActivityManager_Release(This)\\t\\\\\\n    ( (This)->lpVtbl -> Release(This) ) \\n\\n\\n#define IOpenServiceActivityManager_GetCategoryEnumerator(This,eType,ppEnum)\\t\\\\\\n    ( (This)->lpVtbl -> GetCategoryEnumerator(This,eType,ppEnum) ) \\n\\n#define IOpenServiceActivityManager_GetActivityByID(This,pwzActivityID,ppActivity)\\t\\\\\\n    ( (This)->lpVtbl -> GetActivityByID(This,pwzActivityID,ppActivity) ) \\n\\n#define IOpenServiceActivityManager_GetActivityByHomepageAndCategory(This,pwzHomepage,pwzCategory,ppActivity)\\t\\\\\\n    ( (This)->lpVtbl -> GetActivityByHomepageAndCategory(This,pwzHomepage,pwzCategory,ppActivity) ) \\n\\n#define IOpenServiceActivityManager_GetVersionCookie(This,pdwVersionCookie)\\t\\\\\\n    ( (This)->lpVtbl -> GetVersionCookie(This,pdwVersionCookie) ) \\n\\n#endif /* COBJMACROS */\\n\\n\\n#endif \\t/* C style interface */\\n\\n\\n\\n\\n#endif \\t/* __IOpenServiceActivityManager_INTERFACE_DEFINED__ */\\n\\n\\n/* interface __MIDL_itf_openservice_0000_0010 */\\n/* [local] */ \\n\\n#endif /* WINAPI_FAMILY_PARTITION(WINAPI_PARTITION_DESKTOP) */\\n#pragma endregion\\n\\n\\nextern RPC_IF_HANDLE __MIDL_itf_openservice_0000_0010_v0_0_c_ifspec;\\nextern RPC_IF_HANDLE __MIDL_itf_openservice_0000_0010_v0_0_s_ifspec;\\n\\n/* Additional Prototypes for ALL interfaces */\\n\\nunsigned long             __RPC_USER  BSTR_UserSize(     __RPC__in unsigned long *, unsigned long            , __RPC__in BSTR * ); \\nunsigned char * __RPC_USER  BSTR_UserMarshal(  __RPC__in unsigned long *, __RPC__inout_xcount(0) unsigned char *, __RPC__in BSTR * ); \\nunsigned char * __RPC_USER  BSTR_UserUnmarshal(__RPC__in unsigned long *, __RPC__in_xcount(0) unsigned char *, __RPC__out BSTR * ); \\nvoid                      __RPC_USER  BSTR_UserFree(     __RPC__in unsigned long *, __RPC__in BSTR * ); \\n\\nunsigned long             __RPC_USER  HICON_UserSize(     __RPC__in unsigned long *, unsigned long            , __RPC__in HICON * ); \\nunsigned char * __RPC_USER  HICON_UserMarshal(  __RPC__in unsigned long *, __RPC__inout_xcount(0) unsigned char *, __RPC__in HICON * ); \\nunsigned char * __RPC_USER  HICON_UserUnmarshal(__RPC__in unsigned long *, __RPC__in_xcount(0) unsigned char *, __RPC__out HICON * ); \\nvoid                      __RPC_USER  HICON_UserFree(     __RPC__in unsigned long *, __RPC__in HICON * ); \\n\\nunsigned long             __RPC_USER  HWND_UserSize(     __RPC__in unsigned long *, unsigned long            , __RPC__in HWND * ); \\nunsigned char * __RPC_USER  HWND_UserMarshal(  __RPC__in unsigned long *, __RPC__inout_xcount(0) unsigned char *, __RPC__in HWND * ); \\nunsigned char * __RPC_USER  HWND_UserUnmarshal(__RPC__in unsigned long *, __RPC__in_xcount(0) unsigned char *, __RPC__out HWND * ); \\nvoid                      __RPC_USER  HWND_UserFree(     __RPC__in unsigned long *, __RPC__in HWND * ); \\n\\nunsigned long             __RPC_USER  BSTR_UserSize64(     __RPC__in unsigned long *, unsigned long            , __RPC__in BSTR * ); \\nunsigned char * __RPC_USER  BSTR_UserMarshal64(  __RPC__in unsigned long *, __RPC__inout_xcount(0) unsigned char *, __RPC__in BSTR * ); \\nunsigned char * __RPC_USER  BSTR_UserUnmarshal64(__RPC__in unsigned long *, __RPC__in_xcount(0) unsigned char *, __RPC__out BSTR * ); \\nvoid                      __RPC_USER  BSTR_UserFree64(     __RPC__in unsigned long *, __RPC__in BSTR * ); \\n\\nunsigned long             __RPC_USER  HICON_UserSize64(     __RPC__in unsigned long *, unsigned long            , __RPC__in HICON * ); \\nunsigned char * __RPC_USER  HICON_UserMarshal64(  __RPC__in unsigned long *, __RPC__inout_xcount(0) unsigned char *, __RPC__in HICON * ); \\nunsigned char * __RPC_USER  HICON_UserUnmarshal64(__RPC__in unsigned long *, __RPC__in_xcount(0) unsigned char *, __RPC__out HICON * ); \\nvoid                      __RPC_USER  HICON_UserFree64(     __RPC__in unsigned long *, __RPC__in HICON * ); \\n\\nunsigned long             __RPC_USER  HWND_UserSize64(     __RPC__in unsigned long *, unsigned long            , __RPC__in HWND * ); \\nunsigned char * __RPC_USER  HWND_UserMarshal64(  __RPC__in unsigned long *, __RPC__inout_xcount(0) unsigned char *, __RPC__in HWND * ); \\nunsigned char * __RPC_USER  HWND_UserUnmarshal64(__RPC__in unsigned long *, __RPC__in_xcount(0) unsigned char *, __RPC__out HWND * ); \\nvoid                      __RPC_USER  HWND_UserFree64(     __RPC__in unsigned long *, __RPC__in HWND * ); \\n\\n/* end of Additional Prototypes */\\n\\n#ifdef __cplusplus\\n}\\n#endif\\n\\n#endif\\n\\n\\n'"
   ]
  },
  {
   "cell_type": "code",
   "execution_count": 47,
   "id": "90d5185c-1d41-4e84-b86e-ca85b6800e07",
   "metadata": {},
   "outputs": [
    {
     "name": "stderr",
     "output_type": "stream",
     "text": [
      "[Parallel(n_jobs=12)]: Using backend ThreadingBackend with 12 concurrent workers.\n",
      "[Parallel(n_jobs=12)]: Done  17 tasks      | elapsed:    0.0s\n",
      "[Parallel(n_jobs=12)]: Done  50 out of  50 | elapsed:    0.0s finished\n"
     ]
    },
    {
     "data": {
      "text/plain": [
       "array(['c'], dtype=object)"
      ]
     },
     "execution_count": 47,
     "metadata": {},
     "output_type": "execute_result"
    }
   ],
   "source": [
    "random_forest.predict([c_example])"
   ]
  },
  {
   "cell_type": "code",
   "execution_count": 48,
   "id": "9ec72f43-2962-41e0-82ba-bb8d1475050f",
   "metadata": {},
   "outputs": [
    {
     "data": {
      "text/plain": [
       "array(['c'], dtype=object)"
      ]
     },
     "execution_count": 48,
     "metadata": {},
     "output_type": "execute_result"
    }
   ],
   "source": [
    "xgboost.predict([c_example])"
   ]
  },
  {
   "cell_type": "code",
   "execution_count": 49,
   "id": "ea043380-588a-4a39-9f8e-48c2b13dd0a8",
   "metadata": {},
   "outputs": [
    {
     "data": {
      "text/plain": [
       "array(['c'], dtype='<U10')"
      ]
     },
     "execution_count": 49,
     "metadata": {},
     "output_type": "execute_result"
    }
   ],
   "source": [
    "neural_net.predict([c_example])"
   ]
  },
  {
   "cell_type": "code",
   "execution_count": 50,
   "id": "5201bece-3fc9-4b67-aab7-84200cbc004e",
   "metadata": {},
   "outputs": [
    {
     "data": {
      "text/plain": [
       "array(['c'], dtype='<U10')"
      ]
     },
     "execution_count": 50,
     "metadata": {},
     "output_type": "execute_result"
    }
   ],
   "source": [
    "naive_bayes.predict([c_example])"
   ]
  },
  {
   "cell_type": "markdown",
   "id": "3095aeb9-7b68-4953-b842-51a2b63831cd",
   "metadata": {},
   "source": [
    "## Testing with the previous dataset "
   ]
  },
  {
   "cell_type": "code",
   "execution_count": 44,
   "id": "b65ff48f-f541-41a4-850b-a4f4737c90ca",
   "metadata": {},
   "outputs": [],
   "source": [
    "#root_dir = '/content/programming_language_data/' # Google Collab\n",
    "root_dir = 'programming_language_data' # IMPORTANT you will need the dataset\n",
    "data = []\n",
    "for class_folder in os.listdir(root_dir):\n",
    "   if os.path.isdir(os.path.join(root_dir, class_folder)):\n",
    "       with open(os.path.join(root_dir, class_folder, class_folder + '.txt'), 'r') as f:\n",
    "           json_data = json.load(f)\n",
    "           df = pd.DataFrame(json_data)\n",
    "           df['class'] = class_folder\n",
    "           data.append(df)\n",
    "df_final = pd.concat(data, ignore_index=True)"
   ]
  },
  {
   "cell_type": "code",
   "execution_count": 38,
   "id": "b4389fa6-9d10-45a4-a2d5-c479ae8b11bd",
   "metadata": {},
   "outputs": [
    {
     "name": "stdout",
     "output_type": "stream",
     "text": [
      "El ejemplo es lenguaje c\n"
     ]
    }
   ],
   "source": [
    "print(\"El ejemplo es lenguaje \" + df_final['class'][0])"
   ]
  },
  {
   "cell_type": "code",
   "execution_count": 36,
   "id": "7f4e2f1d-0155-4e89-b384-76723f8f4dad",
   "metadata": {},
   "outputs": [
    {
     "name": "stderr",
     "output_type": "stream",
     "text": [
      "[Parallel(n_jobs=12)]: Using backend ThreadingBackend with 12 concurrent workers.\n",
      "[Parallel(n_jobs=12)]: Done  17 tasks      | elapsed:    0.0s\n",
      "[Parallel(n_jobs=12)]: Done  50 out of  50 | elapsed:    0.0s finished\n"
     ]
    },
    {
     "data": {
      "text/plain": [
       "array(['c'], dtype=object)"
      ]
     },
     "execution_count": 36,
     "metadata": {},
     "output_type": "execute_result"
    }
   ],
   "source": [
    "random_forest.predict([df_final[0][0]])"
   ]
  },
  {
   "cell_type": "code",
   "execution_count": 39,
   "id": "aaac68e1-15d7-472a-b90e-3c6ef25e0143",
   "metadata": {},
   "outputs": [
    {
     "data": {
      "text/plain": [
       "array(['c'], dtype=object)"
      ]
     },
     "execution_count": 39,
     "metadata": {},
     "output_type": "execute_result"
    }
   ],
   "source": [
    "xgboost.predict([df_final[0][0]])"
   ]
  },
  {
   "cell_type": "code",
   "execution_count": 40,
   "id": "904d78be-de7b-45cd-a622-6fa6e69ed18d",
   "metadata": {},
   "outputs": [
    {
     "data": {
      "text/plain": [
       "array(['c'], dtype='<U10')"
      ]
     },
     "execution_count": 40,
     "metadata": {},
     "output_type": "execute_result"
    }
   ],
   "source": [
    "neural_net.predict([df_final[0][0]])"
   ]
  },
  {
   "cell_type": "code",
   "execution_count": 41,
   "id": "5dd0225d-3710-4e2b-a0ca-ba89752dc5a9",
   "metadata": {},
   "outputs": [
    {
     "data": {
      "text/plain": [
       "array(['c'], dtype='<U10')"
      ]
     },
     "execution_count": 41,
     "metadata": {},
     "output_type": "execute_result"
    }
   ],
   "source": [
    "naive_bayes.predict([df_final[0][0]])"
   ]
  },
  {
   "cell_type": "code",
   "execution_count": null,
   "id": "d084a4a7-3cfe-498b-943b-c0edd0da7421",
   "metadata": {},
   "outputs": [],
   "source": []
  }
 ],
 "metadata": {
  "kernelspec": {
   "display_name": "Python 3 (ipykernel)",
   "language": "python",
   "name": "python3"
  },
  "language_info": {
   "codemirror_mode": {
    "name": "ipython",
    "version": 3
   },
   "file_extension": ".py",
   "mimetype": "text/x-python",
   "name": "python",
   "nbconvert_exporter": "python",
   "pygments_lexer": "ipython3",
   "version": "3.10.14"
  }
 },
 "nbformat": 4,
 "nbformat_minor": 5
}
